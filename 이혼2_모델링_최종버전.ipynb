{
  "nbformat": 4,
  "nbformat_minor": 0,
  "metadata": {
    "colab": {
      "provenance": []
    },
    "kernelspec": {
      "name": "python3",
      "display_name": "Python 3"
    },
    "language_info": {
      "name": "python"
    }
  },
  "cells": [
    {
      "cell_type": "code",
      "source": [
        "pip install konlpy"
      ],
      "metadata": {
        "colab": {
          "base_uri": "https://localhost:8080/"
        },
        "id": "b4115FjGL53J",
        "outputId": "70cc4528-2801-4723-b62e-d894ebf9e6a5"
      },
      "execution_count": 2,
      "outputs": [
        {
          "output_type": "stream",
          "name": "stdout",
          "text": [
            "Collecting konlpy\n",
            "  Downloading konlpy-0.6.0-py2.py3-none-any.whl.metadata (1.9 kB)\n",
            "Collecting JPype1>=0.7.0 (from konlpy)\n",
            "  Downloading jpype1-1.6.0-cp312-cp312-manylinux2014_x86_64.manylinux_2_17_x86_64.whl.metadata (5.0 kB)\n",
            "Requirement already satisfied: lxml>=4.1.0 in /usr/local/lib/python3.12/dist-packages (from konlpy) (5.4.0)\n",
            "Requirement already satisfied: numpy>=1.6 in /usr/local/lib/python3.12/dist-packages (from konlpy) (2.0.2)\n",
            "Requirement already satisfied: packaging in /usr/local/lib/python3.12/dist-packages (from JPype1>=0.7.0->konlpy) (25.0)\n",
            "Downloading konlpy-0.6.0-py2.py3-none-any.whl (19.4 MB)\n",
            "\u001b[2K   \u001b[90m━━━━━━━━━━━━━━━━━━━━━━━━━━━━━━━━━━━━━━━━\u001b[0m \u001b[32m19.4/19.4 MB\u001b[0m \u001b[31m15.1 MB/s\u001b[0m eta \u001b[36m0:00:00\u001b[0m\n",
            "\u001b[?25hDownloading jpype1-1.6.0-cp312-cp312-manylinux2014_x86_64.manylinux_2_17_x86_64.whl (495 kB)\n",
            "\u001b[2K   \u001b[90m━━━━━━━━━━━━━━━━━━━━━━━━━━━━━━━━━━━━━━━━\u001b[0m \u001b[32m495.9/495.9 kB\u001b[0m \u001b[31m16.4 MB/s\u001b[0m eta \u001b[36m0:00:00\u001b[0m\n",
            "\u001b[?25hInstalling collected packages: JPype1, konlpy\n",
            "Successfully installed JPype1-1.6.0 konlpy-0.6.0\n"
          ]
        }
      ]
    },
    {
      "cell_type": "code",
      "execution_count": 26,
      "metadata": {
        "id": "Xxrksfm6LtCR"
      },
      "outputs": [],
      "source": [
        "import pandas as pd\n",
        "import joblib, json\n",
        "from sklearn.model_selection import train_test_split\n",
        "from sklearn.feature_extraction.text import TfidfVectorizer\n",
        "from sklearn.svm import LinearSVC\n",
        "from sklearn.pipeline import FeatureUnion, Pipeline\n",
        "from sklearn.metrics import classification_report, accuracy_score"
      ]
    },
    {
      "cell_type": "code",
      "source": [
        "from google.colab import drive\n",
        "drive.mount('/content/drive')"
      ],
      "metadata": {
        "colab": {
          "base_uri": "https://localhost:8080/"
        },
        "id": "CcUHoSMJMDDv",
        "outputId": "2704161b-689a-4279-c3d4-6e7c6b62397a"
      },
      "execution_count": 4,
      "outputs": [
        {
          "output_type": "stream",
          "name": "stdout",
          "text": [
            "Mounted at /content/drive\n"
          ]
        }
      ]
    },
    {
      "cell_type": "code",
      "source": [
        "df = pd.read_csv(\"/content/drive/MyDrive/법률모델링/divorce_topic_labeled_augmented.csv\", encoding=\"utf-8-sig\")"
      ],
      "metadata": {
        "id": "cuij0VDAMEGO"
      },
      "execution_count": 5,
      "outputs": []
    },
    {
      "cell_type": "code",
      "source": [
        "TEXT_COL = \"input\"\n",
        "INTENT_COL = \"law_intent\"\n",
        "TOPIC_COL = \"topic_name\"\n",
        "\n",
        "print(f\"📁 데이터 로드 완료: {len(df)}개 문장\")\n",
        "\n",
        "# ==============================\n",
        "# 2️⃣ 공통 FeatureUnion (Word + Char)\n",
        "# ==============================\n",
        "combined_features = FeatureUnion([\n",
        "    (\"word\", TfidfVectorizer(\n",
        "        analyzer=\"word\",\n",
        "        ngram_range=(1,2),\n",
        "        max_features=5000\n",
        "    )),\n",
        "    (\"char\", TfidfVectorizer(\n",
        "        analyzer=\"char_wb\",\n",
        "        ngram_range=(3,6),\n",
        "        min_df=2\n",
        "    )),\n",
        "])\n",
        "\n",
        "# ==============================\n",
        "# 3️⃣ 학습 함수\n",
        "# ==============================\n",
        "def train_and_eval(texts, labels, label_name, save_path):\n",
        "    # 💡 각 모델별 FeatureUnion 독립 선언\n",
        "    combined_features = FeatureUnion([\n",
        "        (\"word\", TfidfVectorizer(\n",
        "            analyzer=\"word\",\n",
        "            ngram_range=(1,2),\n",
        "            max_features=5000\n",
        "        )),\n",
        "        (\"char\", TfidfVectorizer(\n",
        "            analyzer=\"char_wb\",\n",
        "            ngram_range=(3,6),\n",
        "            min_df=2\n",
        "        )),\n",
        "    ])\n",
        "\n",
        "    X_train, X_test, y_train, y_test = train_test_split(\n",
        "        texts, labels, test_size=0.15, random_state=42, stratify=labels\n",
        "    )\n",
        "\n",
        "    pipe = Pipeline([\n",
        "        (\"features\", combined_features),\n",
        "        (\"clf\", LinearSVC(C=1.2, class_weight=\"balanced\")),\n",
        "    ])\n",
        "\n",
        "    print(f\"\\n🧠 [{label_name}] 모델 학습 중...\")\n",
        "    pipe.fit(X_train, y_train)\n",
        "\n",
        "    preds = pipe.predict(X_test)\n",
        "    acc = accuracy_score(y_test, preds)\n",
        "    print(f\"✅ {label_name} 정확도: {acc:.4f}\")\n",
        "    print(classification_report(y_test, preds))\n",
        "\n",
        "    joblib.dump(pipe, save_path)\n",
        "    print(f\"💾 {save_path} 저장 완료 ✅\")\n",
        "\n",
        "    return pipe\n",
        "\n",
        "\n",
        "# ==============================\n",
        "# 4️⃣ 모델 학습\n",
        "# ==============================\n",
        "intent_pipe = train_and_eval(df[TEXT_COL], df[INTENT_COL], \"law_intent\", \"/content/drive/MyDrive/intent_model_hybrid.joblib\")\n",
        "topic_pipe  = train_and_eval(df[TEXT_COL], df[TOPIC_COL ],  \"topic_name\",  \"/content/drive/MyDrive/topic_model_hybrid.joblib\")"
      ],
      "metadata": {
        "colab": {
          "base_uri": "https://localhost:8080/"
        },
        "id": "zu2zXuHIMIap",
        "outputId": "0b30a3c9-e4a2-448f-ae68-eface2cb5f71"
      },
      "execution_count": 29,
      "outputs": [
        {
          "output_type": "stream",
          "name": "stdout",
          "text": [
            "📁 데이터 로드 완료: 1332개 문장\n",
            "\n",
            "🧠 [law_intent] 모델 학습 중...\n",
            "✅ law_intent 정확도: 0.7450\n",
            "              precision    recall  f1-score   support\n",
            "\n",
            "    가능 여부 판단       0.81      0.86      0.83        50\n",
            "    개념·범위·기준       0.77      0.62      0.69        16\n",
            "       금액·산정       0.71      0.79      0.75        19\n",
            "       기간·시효       0.82      0.78      0.80        18\n",
            "          기타       0.83      0.83      0.83        29\n",
            "    법적 근거·조문       0.64      0.50      0.56        18\n",
            "       절차·방법       0.75      0.60      0.67        15\n",
            "     제재·구제수단       0.63      0.75      0.69        16\n",
            "       증거·입증       0.59      0.68      0.63        19\n",
            "\n",
            "    accuracy                           0.74       200\n",
            "   macro avg       0.73      0.71      0.72       200\n",
            "weighted avg       0.75      0.74      0.74       200\n",
            "\n",
            "💾 /content/drive/MyDrive/intent_model_hybrid.joblib 저장 완료 ✅\n",
            "\n",
            "🧠 [topic_name] 모델 학습 중...\n",
            "✅ topic_name 정확도: 0.8050\n",
            "                       precision    recall  f1-score   support\n",
            "\n",
            "     부정행위 및 제3자 개입 책임       0.70      0.78      0.74        45\n",
            "         부정행위의 법률적 근거       0.67      0.74      0.71        47\n",
            "        위자료 및 손해배상 청구       0.90      0.86      0.88        51\n",
            "이혼 시 금전 문제 (재산분할·양육비)       0.93      0.77      0.84        35\n",
            "일반 상담·상황 문의 (비법률적 질문)       1.00      0.91      0.95        22\n",
            "\n",
            "             accuracy                           0.81       200\n",
            "            macro avg       0.84      0.81      0.82       200\n",
            "         weighted avg       0.82      0.81      0.81       200\n",
            "\n",
            "💾 /content/drive/MyDrive/topic_model_hybrid.joblib 저장 완료 ✅\n"
          ]
        }
      ]
    },
    {
      "cell_type": "code",
      "source": [
        "examples = [\n",
        "    \"위자료 받을 수 있을까요?\",\n",
        "    \"이혼 절차는 어떻게 되나요?\",\n",
        "    \"배우자가 외도했어요.\",\n",
        "    \"증거를 꼭 제출해야 하나요?\",\n",
        "    \"위자료 금액은 어떻게 산정되나요?\",\n",
        "    \"이혼 후에도 재산분할이 가능한가요?\",\n",
        "    \"정서적 배신도 부정행위로 인정되나요?\",\n",
        "    \"소송을 제기할 수 있는 기간이 있나요?\",\n",
        "     \"남편이 외도했는데 위자료 받을 수 있나요?\",\n",
        "    \"이혼 소송 절차는 어떻게 되나요?\",\n",
        "    \"이혼 후 재산분할 청구 가능한가요?\",\n",
        "    \"정서적 배신도 부정행위로 인정되나요?\",\n",
        "    \"이혼 후에도 양육비를 받을 수 있나요?\",\n",
        "     \"남편이 외도했는데 위자료 청구 가능한가요?\",\n",
        "    \"이혼 소송 절차가 어떻게 진행되나요?\",\n",
        "    \"위자료 금액은 어떤 기준으로 정하나요?\",\n",
        "    \"이혼 후에도 재산분할 청구가 가능한가요?\",\n",
        "    \"부정행위의 법적 근거는 무엇인가요?\",\n",
        "    \"증거를 제출하지 못하면 어떻게 되나요?\",\n",
        "]\n",
        "\n",
        "print(\"\\n=== 🔍 통합 예측 결과 ===\")\n",
        "for q in examples:\n",
        "    intent_pred = intent_pipe.predict([q])[0]\n",
        "    topic_pred = topic_pipe.predict([q])[0]\n",
        "\n",
        "    print(f\"🗨️ 질문: {q}\")\n",
        "    print(f\"➡️ 의도(law_intent): {intent_pred}\")\n",
        "    print(f\"➡️ 주제(law_topic): {topic_pred}\\n\")\n"
      ],
      "metadata": {
        "colab": {
          "base_uri": "https://localhost:8080/"
        },
        "id": "e9wia4JVZCTJ",
        "outputId": "06d8b97f-7fb8-4b5b-9fdd-c29c98fdc271"
      },
      "execution_count": 31,
      "outputs": [
        {
          "output_type": "stream",
          "name": "stdout",
          "text": [
            "\n",
            "=== 🔍 통합 예측 결과 ===\n",
            "🗨️ 질문: 위자료 받을 수 있을까요?\n",
            "➡️ 의도(law_intent): 기타\n",
            "➡️ 주제(law_topic): 위자료 및 손해배상 청구\n",
            "\n",
            "🗨️ 질문: 이혼 절차는 어떻게 되나요?\n",
            "➡️ 의도(law_intent): 절차·방법\n",
            "➡️ 주제(law_topic): 부정행위의 법률적 근거\n",
            "\n",
            "🗨️ 질문: 배우자가 외도했어요.\n",
            "➡️ 의도(law_intent): 증거·입증\n",
            "➡️ 주제(law_topic): 부정행위의 법률적 근거\n",
            "\n",
            "🗨️ 질문: 증거를 꼭 제출해야 하나요?\n",
            "➡️ 의도(law_intent): 증거·입증\n",
            "➡️ 주제(law_topic): 부정행위의 법률적 근거\n",
            "\n",
            "🗨️ 질문: 위자료 금액은 어떻게 산정되나요?\n",
            "➡️ 의도(law_intent): 금액·산정\n",
            "➡️ 주제(law_topic): 위자료 및 손해배상 청구\n",
            "\n",
            "🗨️ 질문: 이혼 후에도 재산분할이 가능한가요?\n",
            "➡️ 의도(law_intent): 기간·시효\n",
            "➡️ 주제(law_topic): 이혼 시 금전 문제 (재산분할·양육비)\n",
            "\n",
            "🗨️ 질문: 정서적 배신도 부정행위로 인정되나요?\n",
            "➡️ 의도(law_intent): 개념·범위·기준\n",
            "➡️ 주제(law_topic): 부정행위 및 제3자 개입 책임\n",
            "\n",
            "🗨️ 질문: 소송을 제기할 수 있는 기간이 있나요?\n",
            "➡️ 의도(law_intent): 기간·시효\n",
            "➡️ 주제(law_topic): 이혼 시 금전 문제 (재산분할·양육비)\n",
            "\n",
            "🗨️ 질문: 남편이 외도했는데 위자료 받을 수 있나요?\n",
            "➡️ 의도(law_intent): 금액·산정\n",
            "➡️ 주제(law_topic): 위자료 및 손해배상 청구\n",
            "\n",
            "🗨️ 질문: 이혼 소송 절차는 어떻게 되나요?\n",
            "➡️ 의도(law_intent): 절차·방법\n",
            "➡️ 주제(law_topic): 부정행위의 법률적 근거\n",
            "\n",
            "🗨️ 질문: 이혼 후 재산분할 청구 가능한가요?\n",
            "➡️ 의도(law_intent): 금액·산정\n",
            "➡️ 주제(law_topic): 이혼 시 금전 문제 (재산분할·양육비)\n",
            "\n",
            "🗨️ 질문: 정서적 배신도 부정행위로 인정되나요?\n",
            "➡️ 의도(law_intent): 개념·범위·기준\n",
            "➡️ 주제(law_topic): 부정행위 및 제3자 개입 책임\n",
            "\n",
            "🗨️ 질문: 이혼 후에도 양육비를 받을 수 있나요?\n",
            "➡️ 의도(law_intent): 제재·구제수단\n",
            "➡️ 주제(law_topic): 이혼 시 금전 문제 (재산분할·양육비)\n",
            "\n",
            "🗨️ 질문: 남편이 외도했는데 위자료 청구 가능한가요?\n",
            "➡️ 의도(law_intent): 금액·산정\n",
            "➡️ 주제(law_topic): 위자료 및 손해배상 청구\n",
            "\n",
            "🗨️ 질문: 이혼 소송 절차가 어떻게 진행되나요?\n",
            "➡️ 의도(law_intent): 절차·방법\n",
            "➡️ 주제(law_topic): 부정행위의 법률적 근거\n",
            "\n",
            "🗨️ 질문: 위자료 금액은 어떤 기준으로 정하나요?\n",
            "➡️ 의도(law_intent): 금액·산정\n",
            "➡️ 주제(law_topic): 위자료 및 손해배상 청구\n",
            "\n",
            "🗨️ 질문: 이혼 후에도 재산분할 청구가 가능한가요?\n",
            "➡️ 의도(law_intent): 기간·시효\n",
            "➡️ 주제(law_topic): 이혼 시 금전 문제 (재산분할·양육비)\n",
            "\n",
            "🗨️ 질문: 부정행위의 법적 근거는 무엇인가요?\n",
            "➡️ 의도(law_intent): 개념·범위·기준\n",
            "➡️ 주제(law_topic): 부정행위의 법률적 근거\n",
            "\n",
            "🗨️ 질문: 증거를 제출하지 못하면 어떻게 되나요?\n",
            "➡️ 의도(law_intent): 증거·입증\n",
            "➡️ 주제(law_topic): 부정행위의 법률적 근거\n",
            "\n"
          ]
        }
      ]
    }
  ]
}